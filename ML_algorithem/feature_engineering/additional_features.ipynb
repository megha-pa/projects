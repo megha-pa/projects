{
 "cells": [
  {
   "cell_type": "markdown",
   "metadata": {},
   "source": [
    "## Additional thing to reduce processing time and efforts"
   ]
  },
  {
   "cell_type": "markdown",
   "metadata": {},
   "source": [
    "## 1.Column Transformer\n",
    "1.we can use column transformer to apply multiple transformation on each column ex one hot encoding,ordinal encoder etc\n",
    "\n",
    "Link-https://github.com/campusx-official/100-days-of-machine-learning/tree/main/day28-column-transformer\n",
    "\n",
    "\n"
   ]
  },
  {
   "cell_type": "markdown",
   "metadata": {},
   "source": [
    "## 2. Sklearn Pipeline\n",
    "\n",
    "2. we can use sklearn pipeline to combine multiple task under on umberalla we use sklearn pipeline liberary for that\n",
    "\n",
    "Link-https://github.com/campusx-official/100-days-of-machine-learning/tree/main/day29-sklearn-pipelines\n"
   ]
  },
  {
   "cell_type": "markdown",
   "metadata": {},
   "source": [
    "## 3.Mathematical Transformation\n",
    "\n",
    "3.Few machine learning models works best with normal distributed data so with the mathematical transformation we try to make data as normally distributted data.\n",
    "\n",
    "in sklearn there are 3 types of transformation\n",
    "1.Function Transformer-log,reciprocal,sq/sql,custom transform\n",
    "2.Power Transformer\n",
    "3.Quantile Transform \n",
    "\n"
   ]
  },
  {
   "cell_type": "markdown",
   "metadata": {},
   "source": [
    "## Log Tranform\n",
    "Link-https://www.youtube.com/watch?v=cTjj3LE8E90&list=PLKnIA16_Rmvbr7zKYQuBfsVkjoLcJgxHH&index=30\n"
   ]
  },
  {
   "cell_type": "code",
   "execution_count": null,
   "metadata": {},
   "outputs": [],
   "source": []
  },
  {
   "cell_type": "code",
   "execution_count": null,
   "metadata": {},
   "outputs": [],
   "source": []
  }
 ],
 "metadata": {
  "language_info": {
   "name": "python"
  },
  "orig_nbformat": 4
 },
 "nbformat": 4,
 "nbformat_minor": 2
}
