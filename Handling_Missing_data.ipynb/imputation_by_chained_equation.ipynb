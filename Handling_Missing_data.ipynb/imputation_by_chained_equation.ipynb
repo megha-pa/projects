{
 "cells": [
  {
   "cell_type": "code",
   "execution_count": null,
   "metadata": {},
   "outputs": [],
   "source": [
    "## Iterative Imputator / MICE(Multivariate Imputation by Chained equation)\n",
    "MICE used mostly when data is Missing at random i.e we can predict the column by using other column\n",
    "advatages-\n",
    "1.Accurate\n",
    "\n",
    "disadvatages-\n",
    "1.slow\n",
    "2.need to store data on server\n",
    "\n",
    "link-https://github.com/campusx-official/100-days-of-machine-learning/blob/main/day40-iterative-imputer/step-by-step.ipynb"
   ]
  }
 ],
 "metadata": {
  "language_info": {
   "name": "python"
  },
  "orig_nbformat": 4
 },
 "nbformat": 4,
 "nbformat_minor": 2
}
